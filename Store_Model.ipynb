{
 "cells": [
  {
   "cell_type": "code",
   "execution_count": null,
   "id": "2c76ece5-3ad7-4575-b0da-02e753c75a12",
   "metadata": {},
   "outputs": [],
   "source": [
    "!pip install minio"
   ]
  },
  {
   "cell_type": "code",
   "execution_count": 7,
   "id": "36469e18-88a7-4cb7-9225-d99af0f13cef",
   "metadata": {},
   "outputs": [
    {
     "data": {
      "text/plain": [
       "<minio.helpers.ObjectWriteResult at 0x7f84bfaded60>"
      ]
     },
     "execution_count": 7,
     "metadata": {},
     "output_type": "execute_result"
    }
   ],
   "source": [
    "import io\n",
    "from minio import Minio\n",
    "import base64\n",
    "\n",
    "client = Minio(\n",
    "    \"minio-api-mltesting.apps.changeme.com\",\n",
    "    access_key=\"CHANGEME\",\n",
    "    secret_key=\"CHANGEME\",\n",
    "    secure=True\n",
    ")\n",
    "\n",
    "with open('/opt/app-root/src/rhdata/pins.pt', 'rb') as model_file:\n",
    "    encoded_string = base64.b64encode(model_file.read())\n",
    "\n",
    "client.fput_object('mybucket', 'pins.pt', '/opt/app-root/src/rhdata/pins.pt')\n"
   ]
  }
 ],
 "metadata": {
  "kernelspec": {
   "display_name": "Python 3.9",
   "language": "python",
   "name": "python3"
  },
  "language_info": {
   "codemirror_mode": {
    "name": "ipython",
    "version": 3
   },
   "file_extension": ".py",
   "mimetype": "text/x-python",
   "name": "python",
   "nbconvert_exporter": "python",
   "pygments_lexer": "ipython3",
   "version": "3.9.18"
  }
 },
 "nbformat": 4,
 "nbformat_minor": 5
}
