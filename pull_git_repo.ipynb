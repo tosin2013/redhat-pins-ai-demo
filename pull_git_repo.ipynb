{
 "cells": [
  {
   "cell_type": "code",
   "execution_count": 2,
   "id": "baeeb45e-53f4-4628-a992-0e9ddbf5324e",
   "metadata": {
    "tags": []
   },
   "outputs": [
    {
     "name": "stdout",
     "output_type": "stream",
     "text": [
      "HEAD is now at 0bbaf7c rm nuts for rh1\n"
     ]
    }
   ],
   "source": [
    "!cd ./rhdata/redhat-edge-ai-industrial-demo && git reset --hard origin/rh1\n",
    "!cd ./rhdata/redhat-edge-ai-industrial-demo/pins/dataset && sed -i 's/: \\.\\./: \\/opt\\/app-root\\/src\\/rhdata\\/redhat-edge-ai-industrial-demo\\/pins\\/dataset/g' data.yaml"
   ]
  },
  {
   "cell_type": "code",
   "execution_count": null,
   "id": "81d38df6-adca-4b44-9719-1e0d67ecbe57",
   "metadata": {},
   "outputs": [],
   "source": []
  }
 ],
 "metadata": {
  "kernelspec": {
   "display_name": "Python 3.9",
   "language": "python",
   "name": "python3"
  },
  "language_info": {
   "codemirror_mode": {
    "name": "ipython",
    "version": 3
   },
   "file_extension": ".py",
   "mimetype": "text/x-python",
   "name": "python",
   "nbconvert_exporter": "python",
   "pygments_lexer": "ipython3",
   "version": "3.9.18"
  }
 },
 "nbformat": 4,
 "nbformat_minor": 5
}
