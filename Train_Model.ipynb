{
 "cells": [
  {
   "cell_type": "code",
   "execution_count": null,
   "id": "c24962d9-0035-4d0c-a5da-bd221f977084",
   "metadata": {
    "tags": []
   },
   "outputs": [],
   "source": [
    "!cd /opt/app-root/src/rhdata && git clone https://github.com/ultralytics/yolov5  # clone\n",
    "!cd /opt/app-root/src/rhdata/yolov5 && sed -i s/'opencv-python>'/'opencv-python-headless>'/g requirements.txt\n",
    "!pip uninstall -y opencv-python opencv-python-headless\n",
    "!cd /opt/app-root/src/rhdata/yolov5 && pip install -r requirements.txt  # install\n",
    "!cd /opt/app-root/src/rhdata/yolov5 && python train.py --img 1280 --epochs 10 --batch-size 5 --data /opt/app-root/src/redhat-pins-ai-demo/dataset/data.yaml --weights yolov5s.pt\n",
    "!find /opt/app-root/src/rhdata -iname best.pt -exec mv {} /opt/app-root/src/rhdata/pins.pt \\;"
   ]
  },
  {
   "cell_type": "code",
   "execution_count": null,
   "id": "949e696b-374c-472e-b417-61938ddc49e1",
   "metadata": {},
   "outputs": [],
   "source": []
  }
 ],
 "metadata": {
  "kernelspec": {
   "display_name": "Python 3.9",
   "language": "python",
   "name": "python3"
  },
  "language_info": {
   "codemirror_mode": {
    "name": "ipython",
    "version": 3
   },
   "file_extension": ".py",
   "mimetype": "text/x-python",
   "name": "python",
   "nbconvert_exporter": "python",
   "pygments_lexer": "ipython3",
   "version": "3.9.18"
  }
 },
 "nbformat": 4,
 "nbformat_minor": 5
}
