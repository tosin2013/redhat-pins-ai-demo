{
 "cells": [
  {
   "cell_type": "code",
   "execution_count": 31,
   "id": "11e8bd32-354a-46f0-ae2d-494133ac3f23",
   "metadata": {
    "tags": []
   },
   "outputs": [
    {
     "name": "stdout",
     "output_type": "stream",
     "text": [
      "Requirement already satisfied: torch in /opt/app-root/lib/python3.9/site-packages (2.1.2)\n",
      "Requirement already satisfied: opencv-python-headless in /opt/app-root/lib/python3.9/site-packages (4.9.0.80)\n",
      "Requirement already satisfied: nvidia-cuda-runtime-cu12==12.1.105 in /opt/app-root/lib/python3.9/site-packages (from torch) (12.1.105)\n",
      "Requirement already satisfied: nvidia-cuda-cupti-cu12==12.1.105 in /opt/app-root/lib/python3.9/site-packages (from torch) (12.1.105)\n",
      "Requirement already satisfied: nvidia-cufft-cu12==11.0.2.54 in /opt/app-root/lib/python3.9/site-packages (from torch) (11.0.2.54)\n",
      "Requirement already satisfied: sympy in /opt/app-root/lib/python3.9/site-packages (from torch) (1.12)\n",
      "Requirement already satisfied: typing-extensions in /opt/app-root/lib/python3.9/site-packages (from torch) (4.5.0)\n",
      "Requirement already satisfied: nvidia-cuda-nvrtc-cu12==12.1.105 in /opt/app-root/lib/python3.9/site-packages (from torch) (12.1.105)\n",
      "Requirement already satisfied: nvidia-cudnn-cu12==8.9.2.26 in /opt/app-root/lib/python3.9/site-packages (from torch) (8.9.2.26)\n",
      "Requirement already satisfied: filelock in /opt/app-root/lib/python3.9/site-packages (from torch) (3.13.1)\n",
      "Requirement already satisfied: jinja2 in /opt/app-root/lib/python3.9/site-packages (from torch) (3.1.2)\n",
      "Requirement already satisfied: networkx in /opt/app-root/lib/python3.9/site-packages (from torch) (3.2.1)\n",
      "Requirement already satisfied: fsspec in /opt/app-root/lib/python3.9/site-packages (from torch) (2023.10.0)\n",
      "Requirement already satisfied: nvidia-cublas-cu12==12.1.3.1 in /opt/app-root/lib/python3.9/site-packages (from torch) (12.1.3.1)\n",
      "Requirement already satisfied: nvidia-curand-cu12==10.3.2.106 in /opt/app-root/lib/python3.9/site-packages (from torch) (10.3.2.106)\n",
      "Requirement already satisfied: nvidia-cusolver-cu12==11.4.5.107 in /opt/app-root/lib/python3.9/site-packages (from torch) (11.4.5.107)\n",
      "Requirement already satisfied: nvidia-nvtx-cu12==12.1.105 in /opt/app-root/lib/python3.9/site-packages (from torch) (12.1.105)\n",
      "Requirement already satisfied: triton==2.1.0 in /opt/app-root/lib/python3.9/site-packages (from torch) (2.1.0)\n",
      "Requirement already satisfied: nvidia-nccl-cu12==2.18.1 in /opt/app-root/lib/python3.9/site-packages (from torch) (2.18.1)\n",
      "Requirement already satisfied: nvidia-cusparse-cu12==12.1.0.106 in /opt/app-root/lib/python3.9/site-packages (from torch) (12.1.0.106)\n",
      "Requirement already satisfied: nvidia-nvjitlink-cu12 in /opt/app-root/lib/python3.9/site-packages (from nvidia-cusolver-cu12==11.4.5.107->torch) (12.3.101)\n",
      "Requirement already satisfied: numpy>=1.17.0 in /opt/app-root/lib/python3.9/site-packages (from opencv-python-headless) (1.24.3)\n",
      "Requirement already satisfied: MarkupSafe>=2.0 in /opt/app-root/lib/python3.9/site-packages (from jinja2->torch) (2.1.3)\n",
      "Requirement already satisfied: mpmath>=0.19 in /opt/app-root/lib/python3.9/site-packages (from sympy->torch) (1.3.0)\n",
      "\n",
      "\u001b[1m[\u001b[0m\u001b[34;49mnotice\u001b[0m\u001b[1;39;49m]\u001b[0m\u001b[39;49m A new release of pip available: \u001b[0m\u001b[31;49m22.2.2\u001b[0m\u001b[39;49m -> \u001b[0m\u001b[32;49m23.3.2\u001b[0m\n",
      "\u001b[1m[\u001b[0m\u001b[34;49mnotice\u001b[0m\u001b[1;39;49m]\u001b[0m\u001b[39;49m To update, run: \u001b[0m\u001b[32;49mpip install --upgrade pip\u001b[0m\n"
     ]
    }
   ],
   "source": [
    "!pip install torch opencv-python-headless"
   ]
  },
  {
   "cell_type": "code",
   "execution_count": null,
   "id": "aa22fee6",
   "metadata": {},
   "outputs": [],
   "source": [
    "!cd /opt/app-root/src/rhdata && git clone https://github.com/ultralytics/yolov5  # clone\n",
    "!cd /opt/app-root/src/rhdata/yolov5 && sed -i s/'opencv-python>'/'opencv-python-headless>'/g requirements.txt\n",
    "!pip uninstall -y opencv-python opencv-python-headless\n",
    "!cd /opt/app-root/src/rhdata/yolov5 && pip install -r requirements.txt  # install\n",
    "! pip install dill"
   ]
  },
  {
   "cell_type": "code",
   "execution_count": 32,
   "id": "7cad2672-09b5-429b-9353-b07a23563d63",
   "metadata": {
    "tags": []
   },
   "outputs": [
    {
     "name": "stderr",
     "output_type": "stream",
     "text": [
      "YOLOv5 🚀 v7.0-274-g7d9a117 Python-3.9.18 torch-2.1.2+cu121 CUDA:0 (Tesla T4, 14931MiB)\n",
      "\n",
      "Fusing layers... \n",
      "Model summary: 157 layers, 7018216 parameters, 0 gradients, 15.8 GFLOPs\n",
      "Adding AutoShape... \n"
     ]
    },
    {
     "data": {
      "text/html": [
       "<div>\n",
       "<style scoped>\n",
       "    .dataframe tbody tr th:only-of-type {\n",
       "        vertical-align: middle;\n",
       "    }\n",
       "\n",
       "    .dataframe tbody tr th {\n",
       "        vertical-align: top;\n",
       "    }\n",
       "\n",
       "    .dataframe thead th {\n",
       "        text-align: right;\n",
       "    }\n",
       "</style>\n",
       "<table border=\"1\" class=\"dataframe\">\n",
       "  <thead>\n",
       "    <tr style=\"text-align: right;\">\n",
       "      <th></th>\n",
       "      <th>xmin</th>\n",
       "      <th>ymin</th>\n",
       "      <th>xmax</th>\n",
       "      <th>ymax</th>\n",
       "      <th>confidence</th>\n",
       "      <th>class</th>\n",
       "      <th>name</th>\n",
       "    </tr>\n",
       "  </thead>\n",
       "  <tbody>\n",
       "    <tr>\n",
       "      <th>0</th>\n",
       "      <td>31.925919</td>\n",
       "      <td>64.369354</td>\n",
       "      <td>387.143921</td>\n",
       "      <td>625.436401</td>\n",
       "      <td>0.730476</td>\n",
       "      <td>2</td>\n",
       "      <td>RedHatPin</td>\n",
       "    </tr>\n",
       "    <tr>\n",
       "      <th>1</th>\n",
       "      <td>81.758987</td>\n",
       "      <td>236.854568</td>\n",
       "      <td>340.640686</td>\n",
       "      <td>552.464844</td>\n",
       "      <td>0.411716</td>\n",
       "      <td>0</td>\n",
       "      <td>Hatband</td>\n",
       "    </tr>\n",
       "    <tr>\n",
       "      <th>2</th>\n",
       "      <td>229.124542</td>\n",
       "      <td>448.405426</td>\n",
       "      <td>353.500214</td>\n",
       "      <td>584.017212</td>\n",
       "      <td>0.336020</td>\n",
       "      <td>1</td>\n",
       "      <td>Paint_Leak</td>\n",
       "    </tr>\n",
       "    <tr>\n",
       "      <th>3</th>\n",
       "      <td>95.132690</td>\n",
       "      <td>208.241638</td>\n",
       "      <td>321.339386</td>\n",
       "      <td>564.095093</td>\n",
       "      <td>0.283149</td>\n",
       "      <td>2</td>\n",
       "      <td>RedHatPin</td>\n",
       "    </tr>\n",
       "  </tbody>\n",
       "</table>\n",
       "</div>"
      ],
      "text/plain": [
       "         xmin        ymin        xmax        ymax  confidence  class  \\\n",
       "0   31.925919   64.369354  387.143921  625.436401    0.730476      2   \n",
       "1   81.758987  236.854568  340.640686  552.464844    0.411716      0   \n",
       "2  229.124542  448.405426  353.500214  584.017212    0.336020      1   \n",
       "3   95.132690  208.241638  321.339386  564.095093    0.283149      2   \n",
       "\n",
       "         name  \n",
       "0   RedHatPin  \n",
       "1     Hatband  \n",
       "2  Paint_Leak  \n",
       "3   RedHatPin  "
      ]
     },
     "execution_count": 32,
     "metadata": {},
     "output_type": "execute_result"
    }
   ],
   "source": [
    "\n",
    "import torch\n",
    "\n",
    "# Model\n",
    "model = torch.hub.load('/opt/app-root/src/rhdata/yolov5', 'custom', path='/opt/app-root/src/rhdata/pins.pt', source='local')\n",
    "\n",
    "# Image\n",
    "im = '/opt/app-root/src/rhdata/redhat-edge-ai-industrial-demo/pins/dataset/test/images/frame0002_png.rf.dbda0d4c8103bdd574362fcda0db66c0.jpg'\n",
    "\n",
    "# Inference\n",
    "results = model(im)\n",
    "\n",
    "results.pandas().xyxy[0]\n",
    "\n",
    "#!cd /opt/app-root/src/rhdata/yolov5 && python train.py --img 1280 --epochs 10 --batch-size 5 --data /opt/app-root/src/rhdata/redhat-edge-ai-industrial-demo/pins/dataset/data.yaml --weights yolov5s.pt\n"
   ]
  },
  {
   "cell_type": "code",
   "execution_count": null,
   "id": "ee93c7b9-4abe-4053-9f81-75611cadf3ef",
   "metadata": {},
   "outputs": [],
   "source": []
  }
 ],
 "metadata": {
  "kernelspec": {
   "display_name": "Python 3.9",
   "language": "python",
   "name": "python3"
  },
  "language_info": {
   "codemirror_mode": {
    "name": "ipython",
    "version": 3
   },
   "file_extension": ".py",
   "mimetype": "text/x-python",
   "name": "python",
   "nbconvert_exporter": "python",
   "pygments_lexer": "ipython3",
   "version": "3.9.18"
  }
 },
 "nbformat": 4,
 "nbformat_minor": 5
}
