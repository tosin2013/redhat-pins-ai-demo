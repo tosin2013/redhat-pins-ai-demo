{
 "cells": [
  {
   "cell_type": "code",
   "execution_count": null,
   "id": "d7857ded-d356-4732-acfa-798f0005c8f8",
   "metadata": {},
   "outputs": [],
   "source": [
    "!cd ./rhdata && git clone -b rh1 https://github.com/bdherouville/redhat-edge-ai-industrial-demo.git"
   ]
  },
  {
   "cell_type": "code",
   "execution_count": 8,
   "id": "478f55fa-ccc7-4bcd-ab32-710f6747707b",
   "metadata": {
    "tags": []
   },
   "outputs": [
    {
     "name": "stdout",
     "output_type": "stream",
     "text": [
      "total 160\n",
      "drwxrwsr-x. 17 root       1000810000  4096 Jan 19 18:26 .\n",
      "drwxrwxr-x.  1 default    root          41 Nov 16 04:38 ..\n",
      "-rw-rw----.  1 1000810000 1000810000    35 Jan 16 09:08 .bash_history\n",
      "drwxrwsr-x.  7 1000810000 1000810000  4096 Jan 15 20:54 .cache\n",
      "drwxrwsr-x.  4 1000810000 1000810000  4096 Jan 15 20:17 .config\n",
      "-rw-r--r--.  1 1000810000 1000810000    47 Jan 17 08:55 .gitconfig\n",
      "-rw-r--r--.  1 1000810000 1000810000  2549 Jan 17 08:56 git_push_model.ipynb\n",
      "drwxrwsr-x.  2 1000810000 1000810000  4096 Jan 16 20:51 .ipynb_checkpoints\n",
      "drwxrwsr-x.  3 1000810000 1000810000  4096 Jan 15 13:16 .ipython\n",
      "drwxrws---.  3 1000810000 1000810000  4096 Jan 15 20:18 .jupyter\n",
      "drwxrwsr-x.  2 1000810000 1000810000  4096 Jan 15 20:46 .keras\n",
      "drwxrwsr-x.  3 1000810000 1000810000  4096 Jan 15 13:15 .local\n",
      "drwxrws---.  2 root       1000810000 16384 Jan 15 13:15 lost+found\n",
      "drwxrwsr-x.  3 1000810000 1000810000  4096 Jan 15 13:15 .npm\n",
      "drwxrws---.  3 1000810000 1000810000  4096 Jan 15 20:46 .nv\n",
      "drwxr-sr-x.  3 1000810000 1000810000  4096 Jan 17 08:55 pins-model\n",
      "-rw-rw-r--.  1 1000810000 1000810000  4376 Jan 19 18:10 prepare_env.ipynb\n",
      "-rw-rw-r--.  1 1000810000 1000810000   332 Jan 15 13:18 prereq.py\n",
      "-rw-rw-r--.  1 1000810000 1000810000  1197 Jan 19 18:10 pull_git_repo.ipynb\n",
      "drwxrwsr-x.  7 1000810000 1000810000  4096 Jan 15 21:12 redhat-edge-ai-industrial-demo\n",
      "-rw-r--r--.  1 1000810000 1000810000 11210 Jan 19 18:26 rh1_demo.pipeline\n",
      "drwxrwsr-x.  7 root       1000810000  4096 Jan 19 18:23 rhdata\n",
      "-rw-rw-r--.  1 1000810000 1000810000  1527 Jan 16 20:52 Store_Model.ipynb\n",
      "-rw-rw-r--.  1 1000810000 1000810000  8704 Jan 19 18:12 Test_Model.ipynb\n",
      "-rw-rw-r--.  1 1000810000 1000810000 23919 Jan 19 18:14 Train_Model.ipynb\n",
      "-rw-rw-r--.  1 1000810000 1000810000   186 Jan 15 20:17 train.py\n",
      "drwxr-sr-x.  2 1000810000 1000810000  4096 Jan 16 20:51 .virtual_documents\n",
      "drwxrwsr-x. 11 1000810000 1000810000  4096 Jan 16 09:20 yolov5\n"
     ]
    }
   ],
   "source": [
    "! ls -la"
   ]
  },
  {
   "cell_type": "code",
   "execution_count": 9,
   "id": "3336ab41-6cdd-4b86-85f8-bc23a5b9658b",
   "metadata": {
    "tags": []
   },
   "outputs": [
    {
     "name": "stdout",
     "output_type": "stream",
     "text": [
      "git_push_model.ipynb  pull_git_repo.ipynb              Test_Model.ipynb\n",
      "\u001b[0m\u001b[01;34mlost+found\u001b[0m/           \u001b[01;34mredhat-edge-ai-industrial-demo\u001b[0m/  Train_Model.ipynb\n",
      "\u001b[01;34mpins-model\u001b[0m/           rh1_demo.pipeline                train.py\n",
      "prepare_env.ipynb     \u001b[01;34mrhdata\u001b[0m/                          \u001b[01;34myolov5\u001b[0m/\n",
      "prereq.py             Store_Model.ipynb\n"
     ]
    }
   ],
   "source": [
    "ls\n"
   ]
  },
  {
   "cell_type": "code",
   "execution_count": null,
   "id": "2849f7e0-52a9-49b8-b203-4e5fd060ed46",
   "metadata": {},
   "outputs": [],
   "source": []
  }
 ],
 "metadata": {
  "kernelspec": {
   "display_name": "Python 3.9",
   "language": "python",
   "name": "python3"
  },
  "language_info": {
   "codemirror_mode": {
    "name": "ipython",
    "version": 3
   },
   "file_extension": ".py",
   "mimetype": "text/x-python",
   "name": "python",
   "nbconvert_exporter": "python",
   "pygments_lexer": "ipython3",
   "version": "3.9.18"
  }
 },
 "nbformat": 4,
 "nbformat_minor": 5
}
