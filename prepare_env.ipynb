{
 "cells": [
  {
   "cell_type": "code",
   "execution_count": null,
   "id": "abc2c5d5",
   "metadata": {},
   "outputs": [],
   "source": [
    "mkdir -p ../rhdata"
   ]
  },
  {
   "cell_type": "code",
   "execution_count": null,
   "id": "d7857ded-d356-4732-acfa-798f0005c8f8",
   "metadata": {},
   "outputs": [],
   "source": [
    "#!cd ../rhdata && git clone -b rh1 https://github.com/bdherouville/redhat-edge-ai-industrial-demo.git\n",
    "!cd ../rhdata && git clone https://github.com/tosin2013/redhat-pins-ai-demo.git"
   ]
  },
  {
   "cell_type": "code",
   "execution_count": null,
   "id": "478f55fa-ccc7-4bcd-ab32-710f6747707b",
   "metadata": {
    "tags": []
   },
   "outputs": [],
   "source": [
    "! ls -la"
   ]
  },
  {
   "cell_type": "code",
   "execution_count": null,
   "id": "8013134b",
   "metadata": {},
   "outputs": [],
   "source": [
    "!cd ../rhdata && git clone https://github.com/ultralytics/yolov5  # clone"
   ]
  },
  {
   "cell_type": "code",
   "execution_count": null,
   "id": "29bd0770",
   "metadata": {},
   "outputs": [],
   "source": [
    "! git clone https://github.com/redhat-ai-edge-pins-demo/pins-model.git"
   ]
  },
  {
   "cell_type": "code",
   "execution_count": null,
   "id": "abc046ed",
   "metadata": {},
   "outputs": [],
   "source": [
    "! la -lath .\n",
    "! ls -lath /opt/app-root/src/pins-model"
   ]
  },
  {
   "cell_type": "code",
   "execution_count": null,
   "id": "45d71b86",
   "metadata": {},
   "outputs": [],
   "source": [
    "! cp /opt/app-root/src/pins-model/pins.pt ../rhdata/pins.pt"
   ]
  },
  {
   "cell_type": "code",
   "execution_count": null,
   "id": "a66082a0",
   "metadata": {},
   "outputs": [],
   "source": [
    "! ls -lath ../rhdata/"
   ]
  }
 ],
 "metadata": {
  "kernelspec": {
   "display_name": "Python 3.9",
   "language": "python",
   "name": "python3"
  },
  "language_info": {
   "codemirror_mode": {
    "name": "ipython",
    "version": 3
   },
   "file_extension": ".py",
   "mimetype": "text/x-python",
   "name": "python",
   "nbconvert_exporter": "python",
   "pygments_lexer": "ipython3",
   "version": "3.9.18"
  }
 },
 "nbformat": 4,
 "nbformat_minor": 5
}
