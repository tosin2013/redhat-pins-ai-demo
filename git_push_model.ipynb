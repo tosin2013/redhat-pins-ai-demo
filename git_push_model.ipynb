{
 "cells": [
  {
   "cell_type": "code",
   "execution_count": 35,
   "id": "90295894-a1ec-4178-badf-0e6dd3c779fc",
   "metadata": {
    "tags": []
   },
   "outputs": [
    {
     "name": "stdout",
     "output_type": "stream",
     "text": [
      "Cloning into 'pins-model'...\n",
      "remote: Enumerating objects: 3, done.\u001b[K\n",
      "remote: Counting objects: 100% (3/3), done.\u001b[K\n",
      "remote: Compressing objects: 100% (2/2), done.\u001b[K\n",
      "remote: Total 3 (delta 0), reused 3 (delta 0), pack-reused 0\u001b[K\n",
      "Receiving objects: 100% (3/3), 12.70 MiB | 14.01 MiB/s, done.\n",
      "On branch main\n",
      "nothing to commit, working tree clean\n"
     ]
    }
   ],
   "source": [
    "!rm -fr ./pins-model/\n",
    "!git config --global user.email demouser@example.com\n",
    "!git clone https://github.com/redhat-ai-edge-pins-demo/pins-model.git\n",
    "!cd ./pins-model/ && git remote set-url origin https://CHANGEME@github.com/redhat-ai-edge-pins-demo/pins-model.git\n",
    "!cp ./rhdata/pins.pt ./pins-model/pins.pt\n",
    "!cd ./pins-model/ && git branch --unset-upstream && git remote set-url origin https://CHANGEME@github.com/redhat-ai-edge-pins-demo/pins-model.git && git add pins.pt && git commit -m \"new model\" && git push --all"
   ]
  },
  {
   "cell_type": "code",
   "execution_count": 36,
   "id": "fd067654-876b-494c-b8db-2d5c076dd33a",
   "metadata": {},
   "outputs": [
    {
     "name": "stdout",
     "output_type": "stream",
     "text": [
      "On branch main\n",
      "nothing to commit, working tree clean\n"
     ]
    }
   ],
   "source": [
    "!cp ./rhdata/pins.pt ./pins-model/pins.pt\n",
    "!cd ./pins-model/ && git add pins.pt && git commit -m \"new model\" && git push"
   ]
  },
  {
   "cell_type": "code",
   "execution_count": null,
   "id": "b700fa5e-d354-4239-aa3c-ed32d7c5fc9c",
   "metadata": {},
   "outputs": [],
   "source": []
  }
 ],
 "metadata": {
  "kernelspec": {
   "display_name": "Python 3.9",
   "language": "python",
   "name": "python3"
  },
  "language_info": {
   "codemirror_mode": {
    "name": "ipython",
    "version": 3
   },
   "file_extension": ".py",
   "mimetype": "text/x-python",
   "name": "python",
   "nbconvert_exporter": "python",
   "pygments_lexer": "ipython3",
   "version": "3.9.18"
  }
 },
 "nbformat": 4,
 "nbformat_minor": 5
}
